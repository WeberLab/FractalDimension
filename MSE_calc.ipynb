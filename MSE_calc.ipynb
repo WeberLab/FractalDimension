{
 "cells": [
  {
   "cell_type": "code",
   "execution_count": 226,
   "metadata": {},
   "outputs": [
    {
     "name": "stdout",
     "output_type": "stream",
     "text": [
      "864\n"
     ]
    },
    {
     "data": {
      "text/plain": [
       "0.11404418792186882"
      ]
     },
     "execution_count": 226,
     "metadata": {},
     "output_type": "execute_result"
    }
   ],
   "source": [
    "from fbm import fbm, fgn, times\n",
    "import numpy as np\n",
    "from ipynb.fs.defs.Eke_Fractool_Python import FracTool\n",
    "\n",
    "\n",
    "def MSE(N1,N2,N3):\n",
    "    '''This function generates a matrix of known Hurst values and calculates the MSE of the expected Hurst and the \n",
    "    actual Hurst outputted by FracTool. The leftmost third of the matrix are fGn signals, the middle third are fBm \n",
    "    signals, and the last third are random arrays. \n",
    "    N1 = number of rows in matrix\n",
    "    N2 = number of columns in matrix\n",
    "    N3 = number of time-points in signal (3rd dimension in matrix)\n",
    "    '''\n",
    "    \n",
    "    #first generate an matrix with known Hurst values and signal class\n",
    "    \n",
    "    #create arrays of expected Hurst and class (if interested in class as well)\n",
    "    Hurst_expected = np.zeros((N1,N2))\n",
    "    #Sig_class_expected = np.zeros((N1,N2))\n",
    "    Signal_matrix = np.zeros((N1,N2,N3))\n",
    "    fgn_section = np.floor(N2/3) #end of leftmost third of columns of matrix\n",
    "    fbm_section = fgn_section + fgn_section #end of middle third of columns of matrix\n",
    "   \n",
    "    for i in range(N1):\n",
    "        #leftmost third of matrix (fGn signals)\n",
    "        for j in range(0,int(fgn_section)):\n",
    "            Hurst_fgn = random.random() #generates random number between 0 and 1 (random Hurst value)\n",
    "            Hurst_expected[i][j] = Hurst_fgn\n",
    "            #Sig_class_expected[i][j] = 0 #fGn class\n",
    "            #generate fGn signal with random Hurst at each element in first third of matrix\n",
    "            Signal_matrix[i][j] = fgn(n=N3, hurst = Hurst_fgn, length=1, method='daviesharte')\n",
    "        \n",
    "        for k in range(int(fgn_section),int(fbm_section)):\n",
    "            Hurst_fbm = random.random()\n",
    "            Hurst_expected[i][k] = Hurst_fbm\n",
    "            #Sig_class_expected[i][k] = 2 #fBm class\n",
    "            #generate fBm signal with random Hurst at each element in middle third of matrix\n",
    "            Signal_matrix[i][k] = fbm(n=N3+1, hurst = Hurst_fbm, length=1, method='daviesharte')[1:N3+1]\n",
    "\n",
    "        for l in range(int(fbm_section), N2):\n",
    "            Hurst_rand = 0.5 #expected Hurst for random signal?\n",
    "            Hurst_expected[i][l] = Hurst_rand\n",
    "            #Sig_class_expected[i][l] = 3 #outside model? \n",
    "            #generate random array (values between 0 and 1) of length N3 at each element in last third of matrix\n",
    "            Signal_matrix[i][l] = list(np.random.rand(N3))\n",
    "    \n",
    "    #Now find the Hurst value and signal class that FracTool calculates on these known signals\n",
    "    Hurst_actual = np.zeros((N1,N2))\n",
    "    #Sig_class_actual = np.zeros((N1,N2))\n",
    "    for n in range(N1): \n",
    "        for m in range(N2):\n",
    "            result = FracTool(Signal_matrix[n,m])\n",
    "            #result[0] of fractool is sig class\n",
    "            #result[1] of fractool is Hurst coeff\n",
    "            Hurst_actual[n,m] = result[1] \n",
    "            #Sig_class_actual[n,m] = result[0] #comment out if only interested in Hurst MSE\n",
    "    #print(Hurst_expected)\n",
    "    #print(Hurst_actual)\n",
    "    #print(Sig_class_expected)\n",
    "    #print(Sig_class_actual)\n",
    "    \n",
    "    #now calculate MSE between expected Hurst and actual Hurst calculated by FracTool\n",
    "    summation = 0\n",
    "    for x in range(N1):\n",
    "        for y in range(N2): \n",
    "            diff = Hurst_actual[x,y] - Hurst_expected[x,y]\n",
    "            sq_diff = np.nan_to_num(diff**2) #converts all nan values to 0 - removes nan from calculation\n",
    "            summation = summation + sq_diff\n",
    "    #MSE = summation/(N1*N2)  #need to divide by number that is included - omit all nan first? \n",
    "    MSE = summation/np.count_nonzero(np.nan_to_num(Hurst_actual))\n",
    "    return MSE\n",
    "\n",
    "#function call \n",
    "#ex:  N1=33, N2=33, N3 = 1024 generates 999 (33x33) signals of length = 1024 time-points\n",
    "MSE(33,33,1024)"
   ]
  },
  {
   "cell_type": "code",
   "execution_count": null,
   "metadata": {},
   "outputs": [],
   "source": []
  }
 ],
 "metadata": {
  "kernelspec": {
   "display_name": "Python 3",
   "language": "python",
   "name": "python3"
  },
  "language_info": {
   "codemirror_mode": {
    "name": "ipython",
    "version": 3
   },
   "file_extension": ".py",
   "mimetype": "text/x-python",
   "name": "python",
   "nbconvert_exporter": "python",
   "pygments_lexer": "ipython3",
   "version": "3.7.6"
  }
 },
 "nbformat": 4,
 "nbformat_minor": 4
}
