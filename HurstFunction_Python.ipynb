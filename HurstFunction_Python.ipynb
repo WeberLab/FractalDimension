{
 "cells": [
  {
   "cell_type": "code",
   "execution_count": 38,
   "metadata": {},
   "outputs": [],
   "source": [
    "import numpy as np\n",
    "import matplotlib.pyplot as plt\n",
    "import nibabel as nib\n",
    "import os"
   ]
  },
  {
   "cell_type": "code",
   "execution_count": 31,
   "metadata": {},
   "outputs": [],
   "source": [
    "def HurstFunction(rawBOLD, TR):\n",
    "    '''This function will analyze a rs-BOLD raw signal and output \n",
    "    the appropriate Hurst exponent according to the procedure of \n",
    "    Eke et al. (Eur J Physiol (2000) 439:403?415)'''\n",
    "    \n",
    "    #initialize variables\n",
    "    Hurst = None\n",
    "    abort = False\n",
    "    \n",
    "    #common parameters\n",
    "    fs = 1/TR #sampling frequency\n",
    "    print('Sampling frequency =', fs)\n",
    "    n = len(rawBOLD) #number of timepoints\n",
    "    print('Number of timepoints =', n)\n",
    "\n",
    "    #normalize the time series\n",
    "    mean_rawBOLD = np.mean(rawBOLD)\n",
    "    rawBOLD_norm = rawBOLD - mean_rawBOLD #rawBOLD normalized by subtracting mean from every data point\n",
    "    \n",
    "    return Hurst\n"
   ]
  },
  {
   "cell_type": "code",
   "execution_count": 54,
   "metadata": {},
   "outputs": [
    {
     "name": "stdout",
     "output_type": "stream",
     "text": [
      "Sampling frequency = 0.5\n",
      "Number of timepoints = 3\n"
     ]
    }
   ],
   "source": [
    "#testing function with random input\n",
    "HurstFunction([1, 3, 5],2)"
   ]
  },
  {
   "cell_type": "code",
   "execution_count": 55,
   "metadata": {},
   "outputs": [
    {
     "data": {
      "text/plain": [
       "(72, 72, 38)"
      ]
     },
     "execution_count": 55,
     "metadata": {},
     "output_type": "execute_result"
    }
   ],
   "source": [
    "#playing around with loading the data to test the function\n",
    "dir = '/Users/oliviacampbell/Desktop/WeberLab/FractalDimension/sub-08_ses-1/func'\n",
    "file = os.path.join(dir, 'csf_mask.nii.gz')\n",
    "csfmask = nib.load(file)\n",
    "csfmask.shape\n"
   ]
  },
  {
   "cell_type": "code",
   "execution_count": null,
   "metadata": {},
   "outputs": [],
   "source": []
  }
 ],
 "metadata": {
  "kernelspec": {
   "display_name": "Python 3",
   "language": "python",
   "name": "python3"
  },
  "language_info": {
   "codemirror_mode": {
    "name": "ipython",
    "version": 3
   },
   "file_extension": ".py",
   "mimetype": "text/x-python",
   "name": "python",
   "nbconvert_exporter": "python",
   "pygments_lexer": "ipython3",
   "version": "3.7.6"
  }
 },
 "nbformat": 4,
 "nbformat_minor": 4
}
