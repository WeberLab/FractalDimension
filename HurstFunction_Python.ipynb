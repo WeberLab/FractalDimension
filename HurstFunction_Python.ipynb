{
 "cells": [
  {
   "cell_type": "code",
   "execution_count": 340,
   "metadata": {},
   "outputs": [],
   "source": [
    "import numpy as np\n",
    "import matplotlib.pyplot as plt\n",
    "import nibabel as nib\n",
    "import os\n",
    "import random\n",
    "import math"
   ]
  },
  {
   "cell_type": "code",
   "execution_count": 389,
   "metadata": {},
   "outputs": [],
   "source": [
    "def HurstFunction(rawBOLD, TR):\n",
    "    '''This function will analyze a rs-BOLD raw signal and output \n",
    "    the appropriate Hurst exponent according to the procedure of \n",
    "    Eke et al. (Eur J Physiol (2000) 439:403?415)'''\n",
    "    \n",
    "    #initialize variables\n",
    "    Hurst = None\n",
    "    abort = False\n",
    "    \n",
    "    #common parameters\n",
    "    fs = 1/TR #sampling frequency\n",
    "    print('Sampling frequency =', fs)\n",
    "    n = len(rawBOLD) #number of timepoints\n",
    "    print('Number of timepoints =', n)\n",
    "\n",
    "    #normalize the time series\n",
    "    mean_rawBOLD = np.mean(rawBOLD)\n",
    "    rawBOLD_norm = rawBOLD - mean_rawBOLD #rawBOLD normalized by subtracting mean from every data point\n",
    "    print('Mean rawBOLD =', mean_rawBOLD)\n",
    "    \n",
    "   #determine the parabolic window (W) of the series\n",
    "    N = len(rawBOLD_norm)\n",
    "    print(N)\n",
    "    W = np.zeros((N,1))\n",
    "    for j in np.arange(0,N):\n",
    "        W[j] = 1 - np.power((2*(j + 1)/(N+1)-1),2)\n",
    "\n",
    "    #multiply each normalized value by parabolic window to get parabolic window signal\n",
    "    signal_pw = np.array(rawBOLD_norm) * np.array(W)\n",
    "    \n",
    "    #end matching of signal_pw\n",
    "    #line equation is line connecting first and last points of signal_pw\n",
    "    y_first = signal_pw[0,0] \n",
    "    y_last = signal_pw[-1,-1]\n",
    "    slope_ends = (y_last - y_first)/(N-1)\n",
    "    y_int = y_last - slope_ends*N\n",
    "    x_values = np.arange(1,N+1)\n",
    "    line_eq = slope_ends * x_values + y_int\n",
    "    \n",
    "    \n",
    "    #bridge detrending\n",
    "    #subtract transposed line equation from signal_pw\n",
    "    signal_em1 = signal_pw - line_eq[:, np.newaxis]\n",
    "    \n",
    "    #range is first half of signal\n",
    "    range = math.ceil((N+1)/2)\n",
    "    \n",
    "    #frequency vector is sample freq times (0-range)/N\n",
    "    freq_row_vector = fs * np.arange(0,range)/N\n",
    "    #transpose freq_row_vector to get freq in column format\n",
    "    freq = freq_row_vector[:,np.newaxis]\n",
    "    #signal_em1 is the signal after lowPSDwe has been applied, use this signal for PSD\n",
    "\n",
    "    return Hurst\n"
   ]
  },
  {
   "cell_type": "code",
   "execution_count": 392,
   "metadata": {},
   "outputs": [
    {
     "name": "stdout",
     "output_type": "stream",
     "text": [
      "Sampling frequency = 0.5\n",
      "Number of timepoints = 3\n",
      "Mean rawBOLD = 2.3333333333333335\n",
      "3\n"
     ]
    }
   ],
   "source": [
    "#basic function call to test print statements\n",
    "HurstFunction([1,4,2], 2)"
   ]
  },
  {
   "cell_type": "code",
   "execution_count": 393,
   "metadata": {},
   "outputs": [
    {
     "name": "stdout",
     "output_type": "stream",
     "text": [
      "Sampling frequency = 0.5\n",
      "Number of timepoints = 176\n",
      "Mean rawBOLD = 82.99431818181819\n",
      "176\n"
     ]
    }
   ],
   "source": [
    "#run this cell to test Hurst function \n",
    "#cell loads data files and makes function call \n",
    "\n",
    "#find nifti files to test function with\n",
    "dir = os.path.join(os.getcwd(), 'sub-08_ses-1/func')\n",
    "file_csf = os.path.join(dir, 'csf_mask.nii.gz')\n",
    "file_grey = os.path.join(dir, 'grey_mask.nii.gz')\n",
    "file_white = os.path.join(dir, 'white_mask.nii.gz')\n",
    "file_noise = os.path.join(dir, 'noise_mask.nii.gz')\n",
    "file_sub = os.path.join(dir, 'sub-08_ses-1_task-ins_bold.nii.gz')\n",
    "\n",
    "#load files into notebook\n",
    "csfmask = nib.load(file_csf).get_fdata()\n",
    "csflog = csfmask.astype(bool)\n",
    "greymask = nib.load(file_grey).get_fdata()\n",
    "greylog = greymask.astype(bool)\n",
    "whitemask = nib.load(file_white).get_fdata()\n",
    "whitelog = whitemask.astype(bool)\n",
    "noisemask = nib.load(file_noise).get_fdata()\n",
    "noiselog = noisemask.astype(bool)\n",
    "\n",
    "sub8ins = nib.load(file_sub).get_fdata()\n",
    "\n",
    "#find random index of array where element is true after applying mask\n",
    "[row_c,col_c,page_c] = random.choice(np.argwhere(csflog))\n",
    "[row_g, col_g, page_g] = random.choice(np.argwhere(greylog))\n",
    "[row_w,col_w,page_w] = random.choice(np.argwhere(whitelog))\n",
    "[row_n,col_n,page_n] = random.choice(np.argwhere(noiselog))\n",
    "\n",
    "#get element in sub8ins data at random index\n",
    "csf_sample = np.squeeze(sub8ins[row_c,col_c,page_c,:])\n",
    "grey_sample = np.squeeze(sub8ins[row_g,col_g,page_g,:])\n",
    "white_sample = np.squeeze(sub8ins[row_w,col_w,page_w,:])\n",
    "noise_sample = np.squeeze(sub8ins[row_n,col_n,page_n,:])\n",
    "\n",
    "\n",
    "#call to Hurst function\n",
    "HurstFunction(noise_sample,2)\n",
    "\n",
    "\n"
   ]
  }
 ],
 "metadata": {
  "kernelspec": {
   "display_name": "Python 3",
   "language": "python",
   "name": "python3"
  },
  "language_info": {
   "codemirror_mode": {
    "name": "ipython",
    "version": 3
   },
   "file_extension": ".py",
   "mimetype": "text/x-python",
   "name": "python",
   "nbconvert_exporter": "python",
   "pygments_lexer": "ipython3",
   "version": "3.7.6"
  }
 },
 "nbformat": 4,
 "nbformat_minor": 4
}
