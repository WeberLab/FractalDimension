{
 "cells": [
  {
   "cell_type": "code",
   "execution_count": 2,
   "metadata": {},
   "outputs": [],
   "source": [
    "import numpy as np\n",
    "import matplotlib.pyplot as plt\n",
    "import scipy\n",
    "from scipy.fftpack import fft, ifft"
   ]
  },
  {
   "cell_type": "code",
   "execution_count": 3,
   "metadata": {},
   "outputs": [],
   "source": [
    "def Window(ts):\n",
    "    '''This function applies a parabolic window to the signal input'''\n",
    "    n = len(ts)\n",
    "    W = np.zeros((n,1))\n",
    "    #create parabola from 0 to length n\n",
    "    for j in np.arange(0,n):\n",
    "        W[j] = 1 - np.power((2*(j + 1)/(n+1)-1),2)\n",
    "    #multiply parabola and signal to get result  \n",
    "    result = ts * W\n",
    "    return result\n",
    "\n",
    "def Bridge(ts):\n",
    "    '''This function applies the bridge detrended method to the signal input'''\n",
    "    n = len(ts)\n",
    "    #points is the length of the time series from n-1 to 0 (backwords)\n",
    "    points = np.arange(n-1, -1, -1).reshape(1,n)\n",
    "    #line connecting first and last point\n",
    "    line = ((ts[0]-ts[n-1])*points/(n-1))+ts[n-1]\n",
    "    line = line.transpose()\n",
    "    #subtract line from time series\n",
    "    result = ts - line\n",
    "    return result \n",
    "\n",
    "def Spec(ts, p, avg): \n",
    "    '''This function performs a spectral analysis of the time series\n",
    "    where ts is the time series, p is the nth power of 2 where 2^n<=length\n",
    "    of time series. If avg=0, then spectra for all, if avg=1, then spectra avg.\n",
    "    result(1): Hurst coefficient\n",
    "    result(2): correlation coefficient\n",
    "    result(3): beta from Fourier analysis\n",
    "    result(4): Hurst coefficient (high freq excluded)\n",
    "    result(5): correlation coefficient (high freq excluded)\n",
    "    result(6): beta from Fourier analysis (high freq excluded)'''\n",
    "    \n",
    "    f = 1\n",
    "    n = 2**p\n",
    "    #compute the discrete fourier transform of time series \n",
    "    Y = scipy.fftpack.fft(ts.flatten())\n",
    "    #divide the conjucate of the FFT by n\n",
    "    Pyy = Y*np.divide(Y.conj(),n)\n",
    "    #splice array to only include have first half \n",
    "    Pyy = Pyy[0:int(n/2)]\n",
    "\n",
    "    plt.plot(Pyy)\n",
    "\n",
    "    \n",
    "    \n",
    "def FracTool(ts):\n",
    "    '''This function will aid time series analysis using the concept \n",
    "     of statistical fractals.\n",
    "     This code is adapted from A. Eke, P. Hermán, J. B. Bassingthwaighte, G. M. Raymond, D. B. Percival, \n",
    "     M. Cannon, I. Balla, and C. Ikrényi. Physiological time series: distinguishing \n",
    "     fractal noises from motions. Pflügers Archiv European Journal of \n",
    "     Physiology,4394):403-415, 2000. \n",
    "     Fractool determines: \n",
    "     1) The signal class of the time series according to the fGn/fBm model\n",
    "     2) The Hurst coefficients for the fGn or fBm time series\n",
    "     The input ts is a time series of a single coloumn of data points\n",
    "    '''\n",
    "    assert (len(ts) !=0), 'time series is empty'\n",
    "    \n",
    "    #INITIALIZATION \n",
    "    H_PSD = -1\n",
    "    H_Disp = -1\n",
    "    H_bdSWV = -1\n",
    "    H_fGn = -1\n",
    "    H_fBm = -1\n",
    "    \n",
    "    #PARAMETERS\n",
    "    n=len(ts) #length of time series input\n",
    "    print('Number of timepoints = ', n)\n",
    "    i = 1\n",
    "    while n >= 2**i: #calculates the closest 2^i value in n \n",
    "        i += 1\n",
    "    p = i - 1\n",
    "    tsid = ts[0:2**p] #splices ts to exclue points after 2^i\n",
    "    print('Number of timepoints after 2^p splice =', 2**p)\n",
    "    del ts #delete signal before splice\n",
    "    signal_mean = np.mean(tsid) #get mean of tsid\n",
    "    print('Mean of time series = ', signal_mean)\n",
    "    n = len(tsid) #update n to length of tsid\n",
    "    \n",
    "    #GET BETA USING lowPSDw,e METHOD\n",
    "    result = Spec(Bridge(Window(tsid)),p,0)"
   ]
  },
  {
   "cell_type": "code",
   "execution_count": 5,
   "metadata": {},
   "outputs": [
    {
     "name": "stdout",
     "output_type": "stream",
     "text": [
      "Number of timepoints =  1024\n",
      "Number of timepoints after 2^p splice = 1024\n",
      "Mean of time series =  -23.59470008156738\n"
     ]
    },
    {
     "name": "stderr",
     "output_type": "stream",
     "text": [
      "/opt/anaconda3/lib/python3.7/site-packages/numpy/core/_asarray.py:85: ComplexWarning: Casting complex values to real discards the imaginary part\n",
      "  return array(a, dtype, copy=False, order=order)\n"
     ]
    },
    {
     "data": {
      "image/png": "[encoded data removed]",
      "text/plain": [
       "<Figure size 432x288 with 1 Axes>"
      ]
     },
     "metadata": {
      "needs_background": "light"
     },
     "output_type": "display_data"
    }
   ],
   "source": [
    "#Loads fbm signal of known Hurst coeffecient \n",
    "#Hurst coeff is 0.7 and signal has 1024 timepoints\n",
    "fBm_test_signal = np.loadtxt(fname=\"fBm_signal_test.csv\", delimiter=\",\")\n",
    "#make 1D array 2D and transpose so single column vector \n",
    "fBm_transposed = np.reshape(fBm_test_signal,(fBm_test_signal.size, 1))\n",
    "#function call\n",
    "FracTool(fBm_transposed)"
   ]
  },
  {
   "cell_type": "code",
   "execution_count": null,
   "metadata": {},
   "outputs": [],
   "source": []
  }
 ],
 "metadata": {
  "kernelspec": {
   "display_name": "Python 3",
   "language": "python",
   "name": "python3"
  },
  "language_info": {
   "codemirror_mode": {
    "name": "ipython",
    "version": 3
   },
   "file_extension": ".py",
   "mimetype": "text/x-python",
   "name": "python",
   "nbconvert_exporter": "python",
   "pygments_lexer": "ipython3",
   "version": "3.7.6"
  }
 },
 "nbformat": 4,
 "nbformat_minor": 4
}
